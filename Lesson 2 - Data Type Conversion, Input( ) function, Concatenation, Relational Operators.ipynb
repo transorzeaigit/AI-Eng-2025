{
 "cells": [
  {
   "cell_type": "markdown",
   "id": "858c5cd0",
   "metadata": {},
   "source": [
    "# Lesson 2"
   ]
  },
  {
   "cell_type": "markdown",
   "id": "555cb3d0",
   "metadata": {},
   "source": [
    "### Data Type Conversion\n",
    "\n",
    "Python allows conversion between data types using built-in functions such as `int()`, `float()`, `str()`, and `bool()`.\n",
    "Here are some examples:\n",
    "\n",
    "- `int()`: Converts a value to an integer.\n",
    "- `float()`: Converts a value to a floating-point number.\n",
    "- `str()`: Converts a value to a string.\n",
    "- `bool()`: Converts a value to a boolean (True or False)."
   ]
  },
  {
   "cell_type": "code",
   "execution_count": 7,
   "id": "715af8f1",
   "metadata": {},
   "outputs": [
    {
     "name": "stdout",
     "output_type": "stream",
     "text": [
      "Float to Int: 3 (Type: <class 'int'> )\n",
      "Bool to Int: 1 (Type: <class 'int'> )\n",
      "String to Int: 123 (Type: <class 'int'> )\n"
     ]
    }
   ],
   "source": [
    "# 1. Converting float, bool, and string into int()\n",
    "float_val = 3.14\n",
    "bool_val = True\n",
    "str_val = \"123\"\n",
    "\n",
    "# Convert to int\n",
    "int_from_float = int(float_val)  # Truncates the decimal part\n",
    "int_from_bool = int(bool_val)    # True -> 1, False -> 0\n",
    "int_from_str = int(str_val)      # Requires the string to represent a valid integer\n",
    "\n",
    "print(\"Float to Int:\", int_from_float, \"(Type:\", type(int_from_float), \")\")\n",
    "print(\"Bool to Int:\", int_from_bool, \"(Type:\", type(int_from_bool), \")\")\n",
    "print(\"String to Int:\", int_from_str, \"(Type:\", type(int_from_str), \")\")\n"
   ]
  },
  {
   "cell_type": "code",
   "execution_count": 5,
   "id": "a2f5766f",
   "metadata": {},
   "outputs": [
    {
     "name": "stdout",
     "output_type": "stream",
     "text": [
      "Float to String: 3.14 (Type: <class 'str'> )\n",
      "Bool to String: False (Type: <class 'str'> )\n",
      "Int to String: 42 (Type: <class 'str'> )\n"
     ]
    }
   ],
   "source": [
    "# 2. Converting float, bool, and int into string()\n",
    "float_val = 3.14\n",
    "bool_val = False\n",
    "int_val = 42\n",
    "\n",
    "# Convert to string\n",
    "str_from_float = str(float_val)\n",
    "str_from_bool = str(bool_val)\n",
    "str_from_int = str(int_val)\n",
    "\n",
    "print(\"Float to String:\", str_from_float, \"(Type:\", type(str_from_float), \")\")\n",
    "print(\"Bool to String:\", str_from_bool, \"(Type:\", type(str_from_bool), \")\")\n",
    "print(\"Int to String:\", str_from_int, \"(Type:\", type(str_from_int), \")\")\n"
   ]
  },
  {
   "cell_type": "code",
   "execution_count": 4,
   "id": "2e6b91b9",
   "metadata": {},
   "outputs": [
    {
     "name": "stdout",
     "output_type": "stream",
     "text": [
      "Float to Bool: False (Type: <class 'bool'> )\n",
      "Int to Bool: True (Type: <class 'bool'> )\n",
      "String to Bool: True (Type: <class 'bool'> )\n"
     ]
    }
   ],
   "source": [
    "# 3. Converting float, int, and string into bool()\n",
    "\n",
    "float_val = 0.0  # Zero values convert to False\n",
    "int_val = 10     # Non-zero integers convert to True\n",
    "str_val = \"Hello\"\n",
    "\n",
    "# Convert to bool\n",
    "bool_from_float = bool(float_val)\n",
    "bool_from_int = bool(int_val)\n",
    "bool_from_str = bool(str_val)  # Non-empty strings convert to True\n",
    "\n",
    "print(\"Float to Bool:\", bool_from_float, \"(Type:\", type(bool_from_float), \")\")\n",
    "print(\"Int to Bool:\", bool_from_int, \"(Type:\", type(bool_from_int), \")\")\n",
    "print(\"String to Bool:\", bool_from_str, \"(Type:\", type(bool_from_str), \")\")"
   ]
  },
  {
   "cell_type": "code",
   "execution_count": 6,
   "id": "402a8be5",
   "metadata": {},
   "outputs": [
    {
     "name": "stdout",
     "output_type": "stream",
     "text": [
      "Int to Float: 25.0 (Type: <class 'float'> )\n",
      "Bool to Float: 1.0 (Type: <class 'float'> )\n",
      "String to Float: 123.45 (Type: <class 'float'> )\n"
     ]
    }
   ],
   "source": [
    "# 4. Converting int, bool, and string into float()\n",
    "\n",
    "int_val = 25\n",
    "bool_val = True\n",
    "str_val = \"123.45\"\n",
    "\n",
    "# Convert to float\n",
    "float_from_int = float(int_val)\n",
    "float_from_bool = float(bool_val)\n",
    "float_from_str = float(str_val)  # Requires the string to represent a valid float\n",
    "\n",
    "print(\"Int to Float:\", float_from_int, \"(Type:\", type(float_from_int), \")\")\n",
    "print(\"Bool to Float:\", float_from_bool, \"(Type:\", type(float_from_bool), \")\")\n",
    "print(\"String to Float:\", float_from_str, \"(Type:\", type(float_from_str), \")\")"
   ]
  },
  {
   "cell_type": "markdown",
   "id": "4d9314e4",
   "metadata": {},
   "source": [
    "---\n",
    "---\n",
    "### Creating Complex Numbers in Python:\n",
    "\n",
    "In Python, **complex numbers** are numbers that have both a **real** and an **imaginary** part. A complex number is represented as `a + bj`, where:\n",
    "\n",
    "- `a` is the **real part** of the complex number.\n",
    "- `b` is the **imaginary part**.\n",
    "- `j` or `J` represents the imaginary unit (equivalent to the square root of -1).\n",
    "\n",
    "\n",
    "You can create a complex number using the following syntax:\n",
    "```python\n",
    "z = a + bj\n",
    "```\n",
    "Where `a` is the real part and `b` is the imaginary part. You can also use the built-in `complex()` function to create a complex number.\n",
    "\n"
   ]
  },
  {
   "cell_type": "code",
   "execution_count": 2,
   "id": "c338f792",
   "metadata": {},
   "outputs": [
    {
     "name": "stdout",
     "output_type": "stream",
     "text": [
      "(3+4j)\n",
      "(3+4j)\n",
      "(4+6j)\n",
      "(2+2j)\n",
      "(-5+10j)\n",
      "(2.2-0.4j)\n"
     ]
    }
   ],
   "source": [
    "# Using complex literal\n",
    "z1 = 3 + 4j  # 3 is real part, 4 is imaginary part\n",
    "\n",
    "# Using complex() function\n",
    "z2 = complex(3, 4)  # 3 is real part, 4 is imaginary part\n",
    "\n",
    "print(z1)  # Output: (3+4j)\n",
    "print(z2)  # Output: (3+4j)\n",
    "\n",
    "\n",
    "# Operations on Complex Numbers:\n",
    "# Python supports various arithmetic operations on complex numbers:\n",
    "\n",
    "z1 = 3 + 4j\n",
    "z2 = 1 + 2j\n",
    "\n",
    "# Addition\n",
    "z3 = z1 + z2\n",
    "print(z3)  # Output: (4+6j)\n",
    "\n",
    "# Subtraction\n",
    "z4 = z1 - z2\n",
    "print(z4)  # Output: (2+2j)\n",
    "\n",
    "# Multiplication\n",
    "z5 = z1 * z2\n",
    "print(z5)  # Output: (-5+10j)\n",
    "\n",
    "# Division\n",
    "z6 = z1 / z2\n",
    "print(z6)  # Output: (2.2+0.4j)"
   ]
  },
  {
   "cell_type": "markdown",
   "id": "64620fa2",
   "metadata": {},
   "source": [
    "### Accessing the Real and Imaginary Parts:\n",
    "You can access the real and imaginary parts of a complex number using the `.real` and `.imag` attributes, respectively:\n"
   ]
  },
  {
   "cell_type": "code",
   "execution_count": 3,
   "id": "681a74bc",
   "metadata": {},
   "outputs": [
    {
     "name": "stdout",
     "output_type": "stream",
     "text": [
      "Real part: 3.0\n",
      "Imaginary part: 4.0\n"
     ]
    }
   ],
   "source": [
    "z = 3 + 4j\n",
    "\n",
    "real_part = z.real\n",
    "imaginary_part = z.imag\n",
    "\n",
    "print(\"Real part:\", real_part)  # Output: 3.0\n",
    "print(\"Imaginary part:\", imaginary_part)  # Output: 4.0\n"
   ]
  },
  {
   "cell_type": "markdown",
   "id": "f9c8c9ce",
   "metadata": {},
   "source": [
    "---\n",
    "---"
   ]
  },
  {
   "cell_type": "markdown",
   "id": "ec371701",
   "metadata": {},
   "source": [
    "## Differences between implicit and explicit type conversion in Python\n",
    "\n",
    "| **Feature**                         | **Implicit Type Conversion**                                    | **Explicit Type Conversion**                                      |\n",
    "|-------------------------------------|------------------------------------------------------------------|--------------------------------------------------------------------|\n",
    "| **Definition**                      | Automatic conversion of one data type to another by Python.      | Manual conversion of one data type to another using functions.     |\n",
    "| **Also Known As**                   | Type coercion                                                    | Type casting                                                       |\n",
    "| **Occurs**                          | Implicitly, without user intervention.                          | Explicitly, with the help of built-in functions.                    |\n",
    "| **When It Happens**                 | Happens when the operation between incompatible types is performed. | Happens when the user specifies the conversion using functions.    |\n",
    "| **Control**                         | Python automatically handles the conversion.                      | The programmer explicitly decides and invokes the conversion.      |\n",
    "| **Example**                         | Converting an integer to a float during an arithmetic operation. | Using `int()`, `float()`, `str()`, etc., to convert data types.    |\n",
    "| **Example Code**                    | `x = 5` <br> `y = 2.5` <br> `z = x + y`  # `x` is converted to float automatically | `x = int(5.5)`  # Converts float to integer manually              |\n",
    "| **Safety**                          | Generally safe as Python ensures compatibility between types.    | Risk of data loss or error (e.g., converting a string that can't be converted to an integer). |\n",
    "| **Use Case**                        | Occurs automatically when performing operations between mixed types. | Used when you need to explicitly change the type for a specific operation or logic. |\n",
    "| **Example of Implicit Conversion**  | `x = 5 + 3.0` <br> # `x` becomes a float (5 is implicitly converted to float) |                                                                 |\n",
    "| **Example of Explicit Conversion**  |                                                              | `x = float(5)`  # Explicit conversion from int to float           |\n",
    "\n",
    "### Key Points:\n",
    "- **Implicit Type Conversion** happens automatically and is handled by Python when performing operations between mixed data types (e.g., integer and float).\n",
    "- **Explicit Type Conversion** requires the programmer's intervention to convert one data type into another using built-in functions like `int()`, `float()`, or `str()`.\n",
    "\n"
   ]
  },
  {
   "cell_type": "code",
   "execution_count": 13,
   "id": "d1005cb8",
   "metadata": {},
   "outputs": [
    {
     "name": "stdout",
     "output_type": "stream",
     "text": [
      "8.0\n"
     ]
    }
   ],
   "source": [
    "x = 5 + 3.0\n",
    "print(x)"
   ]
  },
  {
   "cell_type": "code",
   "execution_count": 14,
   "id": "d2a6d426",
   "metadata": {},
   "outputs": [
    {
     "name": "stdout",
     "output_type": "stream",
     "text": [
      "5.0\n"
     ]
    }
   ],
   "source": [
    "x = float(5)\n",
    "print(x)"
   ]
  },
  {
   "cell_type": "markdown",
   "id": "56668d5c",
   "metadata": {},
   "source": [
    "Here is the explanation:\n",
    "\n",
    "- In the first case, `x = 5 + 3.0`, the integer `5` is implicitly converted to a float during the addition because Python automatically converts the integer to a float to handle the operation with a floating-point number. The result is `8.0`.\n",
    "\n",
    "- In the second case, `x = float(5)`, the integer `5` is explicitly converted to a float using the `float()` function. The result is `5.0`.\n",
    "\n",
    "Thus, the first example demonstrates **implicit type conversion**, and the second example demonstrates **explicit type conversion**."
   ]
  },
  {
   "cell_type": "markdown",
   "id": "4b988fc2",
   "metadata": {},
   "source": [
    "---\n",
    "---\n",
    "\n",
    "### The `input()` Function\n",
    "\n",
    "The `input()` function is used to accept user input as a string. You can convert this input to other data types if needed."
   ]
  },
  {
   "cell_type": "code",
   "execution_count": 6,
   "id": "fa5ae2c9",
   "metadata": {},
   "outputs": [
    {
     "name": "stdout",
     "output_type": "stream",
     "text": [
      "Enter your name: tan\n",
      "Enter your age: 43\n",
      "Hello tan , you are 43 years old!\n"
     ]
    }
   ],
   "source": [
    "# Example of input function\n",
    "\n",
    "name = input(\"Enter your name: \")\n",
    "age = int(input(\"Enter your age: \")) # Convert input to an integer\n",
    "print(\"Hello\", name , \", you are\" , age , \"years old!\")"
   ]
  },
  {
   "cell_type": "markdown",
   "id": "116088ea",
   "metadata": {},
   "source": [
    "#### Taking Multiple Inputs in Python  \n",
    "The code accepts input from the user in a single line, separates the values using the `split()` method, and assigns them to individual variables. Based on the number of inputs (two or three), it then prints the values with corresponding labels."
   ]
  },
  {
   "cell_type": "code",
   "execution_count": 4,
   "id": "65d21f61",
   "metadata": {},
   "outputs": [
    {
     "name": "stdout",
     "output_type": "stream",
     "text": [
      "Enter three values separated by spaces: hello python world\n",
      "First Value: hello\n",
      "Second Value: python\n",
      "Third Value: world\n"
     ]
    }
   ],
   "source": [
    "value1, value2, value3 = input(\"Enter three values separated by spaces: \").split()\n",
    "print(\"First Value:\", value1)\n",
    "print(\"Second Value:\", value2)\n",
    "print(\"Third Value:\", value3)\n"
   ]
  },
  {
   "cell_type": "markdown",
   "id": "c7554fda",
   "metadata": {},
   "source": [
    "---\n",
    "#### Note:\n",
    "\n",
    "The `input()` function in Python automatically converts the input into a string because it is designed to read data as text by default. When you use `input()`, Python treats the user's input as a sequence of characters, even if the user enters numbers or other types of data.\n",
    "\n",
    "For example:\n",
    "```python\n",
    "user_input = input(\"Enter something: \")\n",
    "print(type(user_input))\n",
    "```\n",
    "This will always output `<class 'str'>`, even if you enter a number, because `input()` returns the data as a string.\n",
    "\n",
    "If you need to convert the input into another data type, such as an integer or a float, you can manually convert it using type conversion functions like `int()` or `float()`:\n",
    "\n",
    "```python\n",
    "user_input = input(\"Enter a number: \")\n",
    "num = int(user_input)  # Converts the string input into an integer\n",
    "print(type(num))\n",
    "```\n",
    "\n",
    "This behavior is designed to ensure that the program can handle a variety of inputs in a flexible manner, leaving the decision to convert to another type up to the programmer."
   ]
  },
  {
   "cell_type": "markdown",
   "id": "37ca49de",
   "metadata": {},
   "source": [
    "---\n",
    "---\n",
    "\n",
    "### Concatenation in Python\n",
    "\n",
    "Concatenation is the process of joining strings together using the `+` operator or formatted strings."
   ]
  },
  {
   "cell_type": "code",
   "execution_count": 10,
   "id": "5a1e61fa",
   "metadata": {},
   "outputs": [
    {
     "name": "stdout",
     "output_type": "stream",
     "text": [
      "Hello, Alice!\n"
     ]
    }
   ],
   "source": [
    "# Examples of string concatenation\n",
    "\n",
    "# Using + operator\n",
    "greeting = \"Hello\"\n",
    "name = \"Alice\"\n",
    "message = greeting + \", \" + name + \"!\"\n",
    "print(message)\n"
   ]
  },
  {
   "cell_type": "markdown",
   "id": "4c9b1ba2",
   "metadata": {},
   "source": [
    "### Can concatenation happen between two different data types?\n",
    "\n",
    "No, concatenation cannot happen directly between two different data types in Python. The **`+` operator** used for concatenation requires that both operands be of the same type.\n"
   ]
  },
  {
   "cell_type": "markdown",
   "id": "b9a2b436",
   "metadata": {},
   "source": [
    "**Incompatible Types (Raises Error)**  \n",
    "Attempting to concatenate a string and a number will raise a `TypeError`."
   ]
  },
  {
   "cell_type": "code",
   "execution_count": 5,
   "id": "01f7d694",
   "metadata": {},
   "outputs": [
    {
     "ename": "TypeError",
     "evalue": "can only concatenate str (not \"int\") to str",
     "output_type": "error",
     "traceback": [
      "\u001b[0;31m---------------------------------------------------------------------------\u001b[0m",
      "\u001b[0;31mTypeError\u001b[0m                                 Traceback (most recent call last)",
      "\u001b[0;32m/var/folders/1d/dcgx_yp111j5znv0n41wktth0000gn/T/ipykernel_7849/3606822295.py\u001b[0m in \u001b[0;36m<module>\u001b[0;34m\u001b[0m\n\u001b[1;32m      1\u001b[0m \u001b[0mstring\u001b[0m \u001b[0;34m=\u001b[0m \u001b[0;34m\"The value is \"\u001b[0m\u001b[0;34m\u001b[0m\u001b[0;34m\u001b[0m\u001b[0m\n\u001b[1;32m      2\u001b[0m \u001b[0mnumber\u001b[0m \u001b[0;34m=\u001b[0m \u001b[0;36m42\u001b[0m\u001b[0;34m\u001b[0m\u001b[0;34m\u001b[0m\u001b[0m\n\u001b[0;32m----> 3\u001b[0;31m \u001b[0mresult\u001b[0m \u001b[0;34m=\u001b[0m \u001b[0mstring\u001b[0m \u001b[0;34m+\u001b[0m \u001b[0mnumber\u001b[0m  \u001b[0;31m# This will raise an error\u001b[0m\u001b[0;34m\u001b[0m\u001b[0;34m\u001b[0m\u001b[0m\n\u001b[0m",
      "\u001b[0;31mTypeError\u001b[0m: can only concatenate str (not \"int\") to str"
     ]
    }
   ],
   "source": [
    "string = \"The value is \"\n",
    "number = 42\n",
    "result = string + number  # This will raise an error"
   ]
  },
  {
   "cell_type": "markdown",
   "id": "010e400e",
   "metadata": {},
   "source": [
    "---\n",
    "### How to Handle Different Data Types?\n",
    "\n",
    "If you need to concatenate values of different types, you must **convert them explicitly** into the same type.\n",
    "\n",
    "#### Example: Converting Number to String"
   ]
  },
  {
   "cell_type": "code",
   "execution_count": 6,
   "id": "6cea5de1",
   "metadata": {},
   "outputs": [
    {
     "name": "stdout",
     "output_type": "stream",
     "text": [
      "The value is 42\n"
     ]
    }
   ],
   "source": [
    "string = \"The value is \"\n",
    "number = 42\n",
    "result = string + str(number)  # Convert number to string\n",
    "print(result)  # Output: The value is 42"
   ]
  },
  {
   "cell_type": "markdown",
   "id": "8f1a914f",
   "metadata": {},
   "source": [
    "\n",
    "### Summary:\n",
    "- Direct concatenation requires **matching data types**.\n",
    "- For different types, **explicit conversion** is needed to perform concatenation."
   ]
  },
  {
   "cell_type": "markdown",
   "id": "560ab60d",
   "metadata": {},
   "source": [
    "---\n",
    "---\n",
    "## Two separators in the `print()`:  `sep` and `end`"
   ]
  },
  {
   "cell_type": "markdown",
   "id": "38918493",
   "metadata": {},
   "source": [
    "The two separators in the `print()` function in Python are `sep` and `end`. These are optional parameters that control how the values are displayed in the output.\n",
    "\n",
    "1. **`sep` (separator):**  \n",
    "   The `sep` parameter specifies the string that separates multiple arguments passed to the `print()` function. By default, it is a space (`' '`).\n",
    "\n",
    "   Example:\n",
    "   ```python\n",
    "   print(\"Hello\", \"world\", sep=\"-\")\n",
    "   ```\n",
    "   Output:\n",
    "   ```\n",
    "   Hello-world\n",
    "   ```\n",
    "\n",
    "2. **`end` (end character):**  \n",
    "   The `end` parameter specifies the string that is appended to the end of the output. By default, it is a newline character (`'\\n'`), meaning the next output appears on a new line.\n",
    "\n",
    "   Example:\n",
    "   ```python\n",
    "   print(\"Hello\", end=\" \")\n",
    "   print(\"world\")\n",
    "   ```\n",
    "   Output:\n",
    "   ```\n",
    "   Hello world\n",
    "   ```\n",
    "\n",
    "In this case, the `end=\" \"` prevents the default newline and ensures the second `print()` statement appears on the same line. You can customize both `sep` and `end` to fit your formatting needs."
   ]
  },
  {
   "cell_type": "markdown",
   "id": "48672830",
   "metadata": {},
   "source": [
    "### Python Keywords\n",
    "\n",
    "A **keyword** in a programming language is a reserved word that has a special meaning and is used for a specific syntactical purpose. Keywords cannot be used as identifiers (such as variable names, function names, or class names) because they are predefined and serve as building blocks of the language's syntax.\n",
    "\n",
    "#### Characteristics of Keywords:\n",
    "1. **Reserved**: They are part of the language's syntax and cannot be redefined or used for other purposes.\n",
    "2. **Purpose-Driven**: Each keyword has a specific role in the language, such as defining control structures, data types, or functions.\n",
    "3. **Language-Specific**: The set of keywords varies between programming languages.\n"
   ]
  },
  {
   "cell_type": "markdown",
   "id": "3a3af68a",
   "metadata": {},
   "source": [
    "Here is a table of Python keywords:\n",
    "\n",
    "| **Keyword**     | **Purpose**                                                    |\n",
    "|-----------------|----------------------------------------------------------------|\n",
    "| `False`         | Boolean value representing false                              |\n",
    "| `None`          | Represents the absence of a value or a null value              |\n",
    "| `True`          | Boolean value representing true                               |\n",
    "| `and`           | Logical AND operator                                           |\n",
    "| `as`            | Used to create an alias during import or exception handling   |\n",
    "| `assert`        | Used for debugging purposes, checks a condition               |\n",
    "| `async`         | Declares an asynchronous function                             |\n",
    "| `await`         | Used to call an asynchronous function                         |\n",
    "| `break`         | Exits the current loop                                        |\n",
    "| `class`         | Defines a class                                                |\n",
    "| `continue`      | Skips the rest of the current iteration in a loop              |\n",
    "| `def`           | Defines a function                                             |\n",
    "| `del`           | Deletes a variable or object                                   |\n",
    "| `elif`          | Else-if statement, used in conditional statements              |\n",
    "| `else`          | Defines an alternative block in conditional statements         |\n",
    "| `except`        | Catches exceptions in `try`/`except` blocks                    |\n",
    "| `finally`       | Defines a block of code that always executes after `try` block |\n",
    "| `for`           | Defines a loop to iterate over a sequence                      |\n",
    "| `from`          | Used in import statements to import specific modules or parts |\n",
    "| `global`        | Declares a global variable                                     |\n",
    "| `if`            | Defines a conditional statement                                |\n",
    "| `import`        | Imports a module or package                                    |\n",
    "| `in`            | Tests if a value is in a sequence (list, tuple, etc.)          |\n",
    "| `is`            | Tests object identity (if two objects are the same)            |\n",
    "| `lambda`        | Creates an anonymous function                                  |\n",
    "| `nonlocal`      | Declares a nonlocal variable                                   |\n",
    "| `not`           | Logical NOT operator                                           |\n",
    "| `or`            | Logical OR operator                                            |\n",
    "| `pass`          | A placeholder statement that does nothing                      |\n",
    "| `raise`         | Raises an exception                                            |\n",
    "| `return`        | Exits a function and optionally returns a value                |\n",
    "| `try`           | Defines a block of code to handle exceptions                   |\n",
    "| `while`         | Defines a while loop that repeats as long as a condition is true|\n",
    "| `with`          | Used to simplify exception handling, especially with file handling|\n",
    "| `yield`         | Used in generator functions to yield values                    |\n",
    "\n",
    "These keywords are reserved in Python and cannot be used as identifiers for variables, functions, or classes."
   ]
  },
  {
   "cell_type": "markdown",
   "id": "83a9e52d",
   "metadata": {},
   "source": [
    "### Relational Operators in Python:\n",
    "Relational operators in Python are used to compare two values or expressions. These operators return a boolean value (`True` or `False`) based on the result of the comparison. They are essential for controlling program flow, such as in conditional statements (like `if`, `elif`, and `else`), loops, and logical expressions.\n",
    "\n",
    "### Usage of Relational Operators in Python:\n",
    "Relational operators are commonly used to:\n",
    "1. **Compare variables or values**: Determine the relationship between two values, such as equality or which one is greater.\n",
    "2. **Control the flow of the program**: Based on the result of a relational operation, you can take different actions using conditional structures (like `if` statements).\n",
    "3. **Filter data**: In lists, tuples, or arrays, relational operators can help filter or sort data based on specific conditions.\n",
    "4. **Loop control**: Relational operators are often used in `while` and `for` loops to determine whether to continue iterating.\n",
    "\n",
    "### Common Relational Operators in Python:\n",
    "\n",
    "1. **Equal to (`==`)**:\n",
    "   - Compares if two values are equal.\n",
    "   - Returns `True` if they are equal, otherwise `False`.\n",
    "\n",
    "2. **Not equal to (`!=`)**:\n",
    "   - Compares if two values are not equal.\n",
    "   - Returns `True` if they are not equal, otherwise `False`.\n",
    "\n",
    "3. **Greater than (`>`)**:\n",
    "   - Compares if the left value is greater than the right value.\n",
    "   - Returns `True` if the left value is greater, otherwise `False`.\n",
    "\n",
    "4. **Less than (`<`)**:\n",
    "   - Compares if the left value is less than the right value.\n",
    "   - Returns `True` if the left value is less, otherwise `False`.\n",
    "\n",
    "5. **Greater than or equal to (`>=`)**:\n",
    "   - Compares if the left value is greater than or equal to the right value.\n",
    "   - Returns `True` if the left value is greater or equal, otherwise `False`.\n",
    "\n",
    "6. **Less than or equal to (`<=`)**:\n",
    "   - Compares if the left value is less than or equal to the right value.\n",
    "   - Returns `True` if the left value is less or equal, otherwise `False`.\n"
   ]
  },
  {
   "cell_type": "markdown",
   "id": "9490c10f",
   "metadata": {},
   "source": [
    "| Operator | Description                  | Example        | Result |\n",
    "|----------|------------------------------|----------------|--------|\n",
    "| `==`     | Equal to                     | `a == b`       | False  |\n",
    "| `!=`     | Not equal to                 | `a != b`       | True   |\n",
    "| `>`      | Greater than                 | `a > b`        | False  |\n",
    "| `<`      | Less than                    | `a < b`        | True   |\n",
    "| `>=`     | Greater than or equal to     | `a >= b`       | False  |\n",
    "| `<=`     | Less than or equal to        | `a <= b`       | True   |\n"
   ]
  },
  {
   "cell_type": "code",
   "execution_count": 7,
   "id": "896f3996",
   "metadata": {},
   "outputs": [
    {
     "name": "stdout",
     "output_type": "stream",
     "text": [
      "False\n",
      "True\n",
      "False\n",
      "True\n",
      "False\n",
      "True\n"
     ]
    }
   ],
   "source": [
    "# Relational Operators in Python\n",
    "\n",
    "# Sample values\n",
    "a = 10\n",
    "b = 20\n",
    "\n",
    "# Using relational operators\n",
    "print(a == b)  # Equal to\n",
    "print(a != b)  # Not equal to\n",
    "print(a > b)   # Greater than\n",
    "print(a < b)   # Less than\n",
    "print(a >= b)  # Greater than or equal to\n",
    "print(a <= b)  # Less than or equal to\n"
   ]
  },
  {
   "cell_type": "markdown",
   "id": "1648a359",
   "metadata": {},
   "source": [
    "---\n",
    "---\n",
    "# Arithmetic Operators in Python:\n",
    "\n",
    "| **Operator** | **Description**                                    | **Example**        | **Result**        | **Details**                                                                                                                                      |\n",
    "|--------------|----------------------------------------------------|--------------------|-------------------|--------------------------------------------------------------------------------------------------------------------------------------------------|\n",
    "| `+`          | Addition                                           | `5 + 3`            | `8`               | Adds the two operands.                                                                                                                                      |\n",
    "| `-`          | Subtraction                                        | `5 - 3`            | `2`               | Subtracts the right operand from the left operand.                                                                                                    |\n",
    "| `*`          | Multiplication                                     | `5 * 3`            | `15`              | Multiplies the two operands.                                                                                                                        |\n",
    "| `/`          | Division (float result)                            | `5 / 3`            | `1.6667`          | Divides the left operand by the right operand, returns a floating-point result.                                                                         |\n",
    "| `//`         | Floor Division (integer result)                    | `5 // 3`           | `1`               | Divides the left operand by the right operand and returns the quotient as an integer (rounded down).                                               |\n",
    "| `%`          | Modulus (remainder of division)                    | `5 % 3`            | `2`               | Returns the remainder when the left operand is divided by the right operand.                                                                        |\n",
    "| `**`         | Exponentiation (power)                             | `5 ** 3`           | `125`             | Raises the left operand to the power of the right operand (a^b).                                                                                   |\n"
   ]
  },
  {
   "cell_type": "code",
   "execution_count": 4,
   "id": "6e5b88a6",
   "metadata": {},
   "outputs": [
    {
     "data": {
      "text/plain": [
       "1"
      ]
     },
     "execution_count": 4,
     "metadata": {},
     "output_type": "execute_result"
    }
   ],
   "source": [
    "5//3"
   ]
  },
  {
   "cell_type": "code",
   "execution_count": 5,
   "id": "4991e6e0",
   "metadata": {},
   "outputs": [
    {
     "data": {
      "text/plain": [
       "2"
      ]
     },
     "execution_count": 5,
     "metadata": {},
     "output_type": "execute_result"
    }
   ],
   "source": [
    "5%3"
   ]
  },
  {
   "cell_type": "code",
   "execution_count": 6,
   "id": "7b086886",
   "metadata": {},
   "outputs": [
    {
     "data": {
      "text/plain": [
       "125"
      ]
     },
     "execution_count": 6,
     "metadata": {},
     "output_type": "execute_result"
    }
   ],
   "source": [
    "5**3"
   ]
  },
  {
   "cell_type": "markdown",
   "id": "6fb46653",
   "metadata": {},
   "source": [
    "---"
   ]
  },
  {
   "cell_type": "markdown",
   "id": "0f39c822",
   "metadata": {},
   "source": [
    "##  **Augmented Assignment Operators** in Python\n",
    "\n",
    "Here is the updated table without the bitwise operators:\n",
    "\n",
    "| **Operator** | **Description**                            | **Example**              | **Result**         | **Details**                                                                                           |\n",
    "|--------------|--------------------------------------------|--------------------------|--------------------|-------------------------------------------------------------------------------------------------------|\n",
    "| `+=`         | Add and assign                             | `x += 3`                 | `x = x + 3`        | Adds the right operand to the left operand and assigns the result to the left operand.               |\n",
    "| `-=`         | Subtract and assign                        | `x -= 3`                 | `x = x - 3`        | Subtracts the right operand from the left operand and assigns the result to the left operand.         |\n",
    "| `*=`         | Multiply and assign                        | `x *= 3`                 | `x = x * 3`        | Multiplies the left operand by the right operand and assigns the result to the left operand.          |\n",
    "| `/=`         | Divide and assign                          | `x /= 3`                 | `x = x / 3`        | Divides the left operand by the right operand and assigns the result to the left operand (float result).|\n",
    "| `//=`        | Floor divide and assign                    | `x //= 3`                | `x = x // 3`       | Divides the left operand by the right operand (floor division) and assigns the result to the left operand. |\n",
    "| `%=`         | Modulus and assign                         | `x %= 3`                 | `x = x % 3`        | Assigns the remainder of the division of the left operand by the right operand to the left operand.   |\n",
    "| `**=`        | Exponentiate and assign                    | `x **= 3`                | `x = x ** 3`       | Raises the left operand to the power of the right operand and assigns the result to the left operand. |\n"
   ]
  },
  {
   "cell_type": "code",
   "execution_count": 10,
   "id": "4f117af1",
   "metadata": {},
   "outputs": [
    {
     "name": "stdout",
     "output_type": "stream",
     "text": [
      "8\n",
      "6\n",
      "24\n",
      "12.0\n",
      "3.0\n",
      "1.0\n",
      "1.0\n"
     ]
    }
   ],
   "source": [
    "x = 5\n",
    "x += 3  # Now x = 8\n",
    "print(x)  # Output: 8\n",
    "\n",
    "x -= 2  # Now x = 6\n",
    "print(x)  # Output: 6\n",
    "\n",
    "x *= 4  # Now x = 24\n",
    "print(x)  # Output: 24\n",
    "\n",
    "x /= 2  # Now x = 12.0 (float result)\n",
    "print(x)  # Output: 12.0\n",
    "\n",
    "x //= 4  # Now x = 3\n",
    "print(x)  # Output: 3\n",
    "\n",
    "x %= 2  # Now x = 1\n",
    "print(x)  # Output: 1\n",
    "\n",
    "x **= 3  # Now x = 1^3 = 1\n",
    "print(x)  # Output: 1\n"
   ]
  }
 ],
 "metadata": {
  "kernelspec": {
   "display_name": "Python 3 (ipykernel)",
   "language": "python",
   "name": "python3"
  },
  "language_info": {
   "codemirror_mode": {
    "name": "ipython",
    "version": 3
   },
   "file_extension": ".py",
   "mimetype": "text/x-python",
   "name": "python",
   "nbconvert_exporter": "python",
   "pygments_lexer": "ipython3",
   "version": "3.8.8"
  }
 },
 "nbformat": 4,
 "nbformat_minor": 5
}
